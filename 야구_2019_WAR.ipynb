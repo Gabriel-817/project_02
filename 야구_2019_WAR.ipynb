{
 "cells": [
  {
   "cell_type": "code",
   "execution_count": 99,
   "metadata": {},
   "outputs": [],
   "source": [
    "import pandas as pd\n",
    "import numpy as np\n",
    "import re"
   ]
  },
  {
   "cell_type": "code",
   "execution_count": 100,
   "metadata": {},
   "outputs": [],
   "source": [
    "baseball_2019_bat = pd.read_csv('./data/19년_타자_기록.csv', sep='\\t', encoding='utf-8')"
   ]
  },
  {
   "cell_type": "code",
   "execution_count": 101,
   "metadata": {},
   "outputs": [],
   "source": [
    "baseball_2019_pit = pd.read_csv('./data/19년_투수_기록.csv', sep='\\t', encoding='utf-8')"
   ]
  },
  {
   "cell_type": "code",
   "execution_count": 102,
   "metadata": {},
   "outputs": [
    {
     "data": {
      "text/plain": [
       "(301, 20)"
      ]
     },
     "execution_count": 102,
     "metadata": {},
     "output_type": "execute_result"
    }
   ],
   "source": [
    "baseball_2019_bat.shape"
   ]
  },
  {
   "cell_type": "code",
   "execution_count": 103,
   "metadata": {},
   "outputs": [
    {
     "data": {
      "text/plain": [
       "(257, 21)"
      ]
     },
     "execution_count": 103,
     "metadata": {},
     "output_type": "execute_result"
    }
   ],
   "source": [
    "baseball_2019_pit.shape"
   ]
  },
  {
   "cell_type": "code",
   "execution_count": 104,
   "metadata": {},
   "outputs": [
    {
     "data": {
      "text/html": [
       "<div>\n",
       "<style scoped>\n",
       "    .dataframe tbody tr th:only-of-type {\n",
       "        vertical-align: middle;\n",
       "    }\n",
       "\n",
       "    .dataframe tbody tr th {\n",
       "        vertical-align: top;\n",
       "    }\n",
       "\n",
       "    .dataframe thead th {\n",
       "        text-align: right;\n",
       "    }\n",
       "</style>\n",
       "<table border=\"1\" class=\"dataframe\">\n",
       "  <thead>\n",
       "    <tr style=\"text-align: right;\">\n",
       "      <th></th>\n",
       "      <th>#</th>\n",
       "      <th>선수명</th>\n",
       "      <th>팀명</th>\n",
       "      <th>타석</th>\n",
       "      <th>타율</th>\n",
       "      <th>BABIP</th>\n",
       "      <th>볼넷%</th>\n",
       "      <th>삼진%</th>\n",
       "      <th>볼/삼</th>\n",
       "      <th>ISO</th>\n",
       "      <th>타수/홈런</th>\n",
       "      <th>OPS</th>\n",
       "      <th>RC</th>\n",
       "      <th>RC/27</th>\n",
       "      <th>wRC</th>\n",
       "      <th>SPD</th>\n",
       "      <th>wSB</th>\n",
       "      <th>wOBA</th>\n",
       "      <th>wRAA</th>\n",
       "      <th>WAR</th>\n",
       "    </tr>\n",
       "  </thead>\n",
       "  <tbody>\n",
       "    <tr>\n",
       "      <th>0</th>\n",
       "      <td>1</td>\n",
       "      <td>양의지</td>\n",
       "      <td>NC</td>\n",
       "      <td>459</td>\n",
       "      <td>0.354</td>\n",
       "      <td>0.354</td>\n",
       "      <td>10.5</td>\n",
       "      <td>9.4</td>\n",
       "      <td>1.12</td>\n",
       "      <td>0.220</td>\n",
       "      <td>19.50</td>\n",
       "      <td>1.012</td>\n",
       "      <td>98.53</td>\n",
       "      <td>9.71</td>\n",
       "      <td>99.49</td>\n",
       "      <td>2.52</td>\n",
       "      <td>-0.48</td>\n",
       "      <td>0.441</td>\n",
       "      <td>45.46</td>\n",
       "      <td>7.02</td>\n",
       "    </tr>\n",
       "    <tr>\n",
       "      <th>1</th>\n",
       "      <td>2</td>\n",
       "      <td>김하성</td>\n",
       "      <td>Hero</td>\n",
       "      <td>625</td>\n",
       "      <td>0.307</td>\n",
       "      <td>0.328</td>\n",
       "      <td>11.2</td>\n",
       "      <td>12.8</td>\n",
       "      <td>0.88</td>\n",
       "      <td>0.184</td>\n",
       "      <td>28.42</td>\n",
       "      <td>0.880</td>\n",
       "      <td>110.96</td>\n",
       "      <td>7.53</td>\n",
       "      <td>106.70</td>\n",
       "      <td>6.29</td>\n",
       "      <td>4.41</td>\n",
       "      <td>0.389</td>\n",
       "      <td>33.14</td>\n",
       "      <td>6.77</td>\n",
       "    </tr>\n",
       "    <tr>\n",
       "      <th>2</th>\n",
       "      <td>3</td>\n",
       "      <td>최정</td>\n",
       "      <td>SK</td>\n",
       "      <td>606</td>\n",
       "      <td>0.292</td>\n",
       "      <td>0.303</td>\n",
       "      <td>11.6</td>\n",
       "      <td>15.2</td>\n",
       "      <td>0.76</td>\n",
       "      <td>0.227</td>\n",
       "      <td>17.34</td>\n",
       "      <td>0.918</td>\n",
       "      <td>113.01</td>\n",
       "      <td>8.25</td>\n",
       "      <td>110.90</td>\n",
       "      <td>3.97</td>\n",
       "      <td>-0.14</td>\n",
       "      <td>0.403</td>\n",
       "      <td>39.58</td>\n",
       "      <td>6.63</td>\n",
       "    </tr>\n",
       "    <tr>\n",
       "      <th>3</th>\n",
       "      <td>4</td>\n",
       "      <td>샌즈</td>\n",
       "      <td>Hero</td>\n",
       "      <td>613</td>\n",
       "      <td>0.305</td>\n",
       "      <td>0.329</td>\n",
       "      <td>12.6</td>\n",
       "      <td>16.5</td>\n",
       "      <td>0.76</td>\n",
       "      <td>0.238</td>\n",
       "      <td>18.75</td>\n",
       "      <td>0.939</td>\n",
       "      <td>113.10</td>\n",
       "      <td>7.85</td>\n",
       "      <td>116.56</td>\n",
       "      <td>2.39</td>\n",
       "      <td>-0.52</td>\n",
       "      <td>0.411</td>\n",
       "      <td>44.42</td>\n",
       "      <td>6.09</td>\n",
       "    </tr>\n",
       "    <tr>\n",
       "      <th>4</th>\n",
       "      <td>5</td>\n",
       "      <td>로하스</td>\n",
       "      <td>KT</td>\n",
       "      <td>578</td>\n",
       "      <td>0.322</td>\n",
       "      <td>0.377</td>\n",
       "      <td>8.5</td>\n",
       "      <td>20.8</td>\n",
       "      <td>0.41</td>\n",
       "      <td>0.208</td>\n",
       "      <td>21.71</td>\n",
       "      <td>0.911</td>\n",
       "      <td>107.45</td>\n",
       "      <td>7.93</td>\n",
       "      <td>102.10</td>\n",
       "      <td>4.17</td>\n",
       "      <td>-0.95</td>\n",
       "      <td>0.396</td>\n",
       "      <td>34.07</td>\n",
       "      <td>5.56</td>\n",
       "    </tr>\n",
       "  </tbody>\n",
       "</table>\n",
       "</div>"
      ],
      "text/plain": [
       "   #  선수명    팀명   타석     타율  BABIP   볼넷%   삼진%   볼/삼    ISO  타수/홈런    OPS  \\\n",
       "0  1  양의지    NC  459  0.354  0.354  10.5   9.4  1.12  0.220  19.50  1.012   \n",
       "1  2  김하성  Hero  625  0.307  0.328  11.2  12.8  0.88  0.184  28.42  0.880   \n",
       "2  3   최정    SK  606  0.292  0.303  11.6  15.2  0.76  0.227  17.34  0.918   \n",
       "3  4   샌즈  Hero  613  0.305  0.329  12.6  16.5  0.76  0.238  18.75  0.939   \n",
       "4  5  로하스    KT  578  0.322  0.377   8.5  20.8  0.41  0.208  21.71  0.911   \n",
       "\n",
       "       RC RC/27     wRC   SPD   wSB   wOBA   wRAA   WAR  \n",
       "0   98.53  9.71   99.49  2.52 -0.48  0.441  45.46  7.02  \n",
       "1  110.96  7.53  106.70  6.29  4.41  0.389  33.14  6.77  \n",
       "2  113.01  8.25  110.90  3.97 -0.14  0.403  39.58  6.63  \n",
       "3  113.10  7.85  116.56  2.39 -0.52  0.411  44.42  6.09  \n",
       "4  107.45  7.93  102.10  4.17 -0.95  0.396  34.07  5.56  "
      ]
     },
     "execution_count": 104,
     "metadata": {},
     "output_type": "execute_result"
    }
   ],
   "source": [
    "baseball_2019_bat.head()"
   ]
  },
  {
   "cell_type": "code",
   "execution_count": 105,
   "metadata": {},
   "outputs": [
    {
     "name": "stdout",
     "output_type": "stream",
     "text": [
      "<class 'pandas.core.frame.DataFrame'>\n",
      "RangeIndex: 301 entries, 0 to 300\n",
      "Data columns (total 20 columns):\n",
      "#        301 non-null int64\n",
      "선수명      301 non-null object\n",
      "팀명       301 non-null object\n",
      "타석       301 non-null int64\n",
      "타율       301 non-null object\n",
      "BABIP    301 non-null object\n",
      "볼넷%      301 non-null object\n",
      "삼진%      301 non-null object\n",
      "볼/삼      301 non-null object\n",
      "ISO      301 non-null object\n",
      "타수/홈런    301 non-null object\n",
      "OPS      301 non-null object\n",
      "RC       301 non-null object\n",
      "RC/27    301 non-null object\n",
      "wRC      301 non-null object\n",
      "SPD      301 non-null object\n",
      "wSB      301 non-null float64\n",
      "wOBA     301 non-null object\n",
      "wRAA     301 non-null object\n",
      "WAR      301 non-null object\n",
      "dtypes: float64(1), int64(2), object(17)\n",
      "memory usage: 47.2+ KB\n"
     ]
    }
   ],
   "source": [
    "baseball_2019_bat.info()"
   ]
  },
  {
   "cell_type": "code",
   "execution_count": 106,
   "metadata": {},
   "outputs": [],
   "source": [
    "baseball_2019_bat[['WAR']] = baseball_2019_bat[['WAR']].apply(pd.to_numeric, errors='coerce')"
   ]
  },
  {
   "cell_type": "code",
   "execution_count": 107,
   "metadata": {},
   "outputs": [],
   "source": [
    "baseball_2019_pit[['WAR']] = baseball_2019_pit[['WAR']].apply(pd.to_numeric, errors='coerce')"
   ]
  },
  {
   "cell_type": "code",
   "execution_count": 108,
   "metadata": {},
   "outputs": [
    {
     "name": "stdout",
     "output_type": "stream",
     "text": [
      "<class 'pandas.core.frame.DataFrame'>\n",
      "RangeIndex: 301 entries, 0 to 300\n",
      "Data columns (total 20 columns):\n",
      "#        301 non-null int64\n",
      "선수명      301 non-null object\n",
      "팀명       301 non-null object\n",
      "타석       301 non-null int64\n",
      "타율       301 non-null object\n",
      "BABIP    301 non-null object\n",
      "볼넷%      301 non-null object\n",
      "삼진%      301 non-null object\n",
      "볼/삼      301 non-null object\n",
      "ISO      301 non-null object\n",
      "타수/홈런    301 non-null object\n",
      "OPS      301 non-null object\n",
      "RC       301 non-null object\n",
      "RC/27    301 non-null object\n",
      "wRC      301 non-null object\n",
      "SPD      301 non-null object\n",
      "wSB      301 non-null float64\n",
      "wOBA     301 non-null object\n",
      "wRAA     301 non-null object\n",
      "WAR      295 non-null float64\n",
      "dtypes: float64(2), int64(2), object(16)\n",
      "memory usage: 47.2+ KB\n"
     ]
    }
   ],
   "source": [
    "baseball_2019_bat.info()"
   ]
  },
  {
   "cell_type": "code",
   "execution_count": 109,
   "metadata": {},
   "outputs": [
    {
     "data": {
      "text/html": [
       "<div>\n",
       "<style scoped>\n",
       "    .dataframe tbody tr th:only-of-type {\n",
       "        vertical-align: middle;\n",
       "    }\n",
       "\n",
       "    .dataframe tbody tr th {\n",
       "        vertical-align: top;\n",
       "    }\n",
       "\n",
       "    .dataframe thead th {\n",
       "        text-align: right;\n",
       "    }\n",
       "</style>\n",
       "<table border=\"1\" class=\"dataframe\">\n",
       "  <thead>\n",
       "    <tr style=\"text-align: right;\">\n",
       "      <th></th>\n",
       "      <th>#</th>\n",
       "      <th>선수명</th>\n",
       "      <th>팀명</th>\n",
       "      <th>타석</th>\n",
       "      <th>타율</th>\n",
       "      <th>BABIP</th>\n",
       "      <th>볼넷%</th>\n",
       "      <th>삼진%</th>\n",
       "      <th>볼/삼</th>\n",
       "      <th>ISO</th>\n",
       "      <th>타수/홈런</th>\n",
       "      <th>OPS</th>\n",
       "      <th>RC</th>\n",
       "      <th>RC/27</th>\n",
       "      <th>wRC</th>\n",
       "      <th>SPD</th>\n",
       "      <th>wSB</th>\n",
       "      <th>wOBA</th>\n",
       "      <th>wRAA</th>\n",
       "      <th>WAR</th>\n",
       "    </tr>\n",
       "  </thead>\n",
       "  <tbody>\n",
       "    <tr>\n",
       "      <th>232</th>\n",
       "      <td>233</td>\n",
       "      <td>장운호</td>\n",
       "      <td>한화</td>\n",
       "      <td>12</td>\n",
       "      <td>0.100</td>\n",
       "      <td>0.111</td>\n",
       "      <td>8.3</td>\n",
       "      <td>8.3</td>\n",
       "      <td>1.00</td>\n",
       "      <td>0.000</td>\n",
       "      <td>-</td>\n",
       "      <td>0.282</td>\n",
       "      <td>0.15</td>\n",
       "      <td>0.37</td>\n",
       "      <td>-0.47</td>\n",
       "      <td>8.62</td>\n",
       "      <td>-0.48</td>\n",
       "      <td>0.152</td>\n",
       "      <td>-1.88</td>\n",
       "      <td>-0.23</td>\n",
       "    </tr>\n",
       "    <tr>\n",
       "      <th>109</th>\n",
       "      <td>110</td>\n",
       "      <td>지성준</td>\n",
       "      <td>한화</td>\n",
       "      <td>109</td>\n",
       "      <td>0.250</td>\n",
       "      <td>0.296</td>\n",
       "      <td>4.6</td>\n",
       "      <td>19.3</td>\n",
       "      <td>0.24</td>\n",
       "      <td>0.115</td>\n",
       "      <td>52.00</td>\n",
       "      <td>0.649</td>\n",
       "      <td>10.10</td>\n",
       "      <td>3.37</td>\n",
       "      <td>9.01</td>\n",
       "      <td>1.19</td>\n",
       "      <td>0.03</td>\n",
       "      <td>0.290</td>\n",
       "      <td>-3.82</td>\n",
       "      <td>0.13</td>\n",
       "    </tr>\n",
       "    <tr>\n",
       "      <th>186</th>\n",
       "      <td>187</td>\n",
       "      <td>변우혁</td>\n",
       "      <td>한화</td>\n",
       "      <td>61</td>\n",
       "      <td>0.226</td>\n",
       "      <td>0.314</td>\n",
       "      <td>11.5</td>\n",
       "      <td>27.9</td>\n",
       "      <td>0.41</td>\n",
       "      <td>0.076</td>\n",
       "      <td>53.00</td>\n",
       "      <td>0.630</td>\n",
       "      <td>5.04</td>\n",
       "      <td>3.09</td>\n",
       "      <td>5.72</td>\n",
       "      <td>0.15</td>\n",
       "      <td>0.03</td>\n",
       "      <td>0.302</td>\n",
       "      <td>-1.46</td>\n",
       "      <td>-0.07</td>\n",
       "    </tr>\n",
       "    <tr>\n",
       "      <th>129</th>\n",
       "      <td>130</td>\n",
       "      <td>김민하</td>\n",
       "      <td>한화</td>\n",
       "      <td>140</td>\n",
       "      <td>0.256</td>\n",
       "      <td>0.361</td>\n",
       "      <td>6.4</td>\n",
       "      <td>29.3</td>\n",
       "      <td>0.22</td>\n",
       "      <td>0.096</td>\n",
       "      <td>62.50</td>\n",
       "      <td>0.671</td>\n",
       "      <td>13.92</td>\n",
       "      <td>3.72</td>\n",
       "      <td>13.79</td>\n",
       "      <td>3.36</td>\n",
       "      <td>0.01</td>\n",
       "      <td>0.308</td>\n",
       "      <td>-2.69</td>\n",
       "      <td>0.05</td>\n",
       "    </tr>\n",
       "    <tr>\n",
       "      <th>31</th>\n",
       "      <td>32</td>\n",
       "      <td>호잉</td>\n",
       "      <td>한화</td>\n",
       "      <td>525</td>\n",
       "      <td>0.284</td>\n",
       "      <td>0.314</td>\n",
       "      <td>7.2</td>\n",
       "      <td>17.1</td>\n",
       "      <td>0.42</td>\n",
       "      <td>0.176</td>\n",
       "      <td>26.44</td>\n",
       "      <td>0.800</td>\n",
       "      <td>76.60</td>\n",
       "      <td>5.74</td>\n",
       "      <td>71.18</td>\n",
       "      <td>6.07</td>\n",
       "      <td>0.87</td>\n",
       "      <td>0.350</td>\n",
       "      <td>9.39</td>\n",
       "      <td>2.73</td>\n",
       "    </tr>\n",
       "  </tbody>\n",
       "</table>\n",
       "</div>"
      ],
      "text/plain": [
       "       #  선수명  팀명   타석     타율  BABIP   볼넷%   삼진%   볼/삼    ISO  타수/홈런    OPS  \\\n",
       "232  233  장운호  한화   12  0.100  0.111   8.3   8.3  1.00  0.000      -  0.282   \n",
       "109  110  지성준  한화  109  0.250  0.296   4.6  19.3  0.24  0.115  52.00  0.649   \n",
       "186  187  변우혁  한화   61  0.226  0.314  11.5  27.9  0.41  0.076  53.00  0.630   \n",
       "129  130  김민하  한화  140  0.256  0.361   6.4  29.3  0.22  0.096  62.50  0.671   \n",
       "31    32   호잉  한화  525  0.284  0.314   7.2  17.1  0.42  0.176  26.44  0.800   \n",
       "\n",
       "        RC RC/27    wRC   SPD   wSB   wOBA   wRAA   WAR  \n",
       "232   0.15  0.37  -0.47  8.62 -0.48  0.152  -1.88 -0.23  \n",
       "109  10.10  3.37   9.01  1.19  0.03  0.290  -3.82  0.13  \n",
       "186   5.04  3.09   5.72  0.15  0.03  0.302  -1.46 -0.07  \n",
       "129  13.92  3.72  13.79  3.36  0.01  0.308  -2.69  0.05  \n",
       "31   76.60  5.74  71.18  6.07  0.87  0.350   9.39  2.73  "
      ]
     },
     "execution_count": 109,
     "metadata": {},
     "output_type": "execute_result"
    }
   ],
   "source": [
    "baseball_2019_bat.sort_values(by='팀명',ascending=False).head()"
   ]
  },
  {
   "cell_type": "code",
   "execution_count": 110,
   "metadata": {},
   "outputs": [
    {
     "data": {
      "text/html": [
       "<div>\n",
       "<style scoped>\n",
       "    .dataframe tbody tr th:only-of-type {\n",
       "        vertical-align: middle;\n",
       "    }\n",
       "\n",
       "    .dataframe tbody tr th {\n",
       "        vertical-align: top;\n",
       "    }\n",
       "\n",
       "    .dataframe thead th {\n",
       "        text-align: right;\n",
       "    }\n",
       "</style>\n",
       "<table border=\"1\" class=\"dataframe\">\n",
       "  <thead>\n",
       "    <tr style=\"text-align: right;\">\n",
       "      <th></th>\n",
       "      <th>#</th>\n",
       "      <th>선수명</th>\n",
       "      <th>팀명</th>\n",
       "      <th>승</th>\n",
       "      <th>패</th>\n",
       "      <th>세</th>\n",
       "      <th>홀드</th>\n",
       "      <th>블론</th>\n",
       "      <th>경기</th>\n",
       "      <th>선발</th>\n",
       "      <th>...</th>\n",
       "      <th>삼진/9</th>\n",
       "      <th>볼넷/9</th>\n",
       "      <th>홈런/9</th>\n",
       "      <th>BABIP</th>\n",
       "      <th>LOB%</th>\n",
       "      <th>ERA</th>\n",
       "      <th>RA9-WAR</th>\n",
       "      <th>FIP</th>\n",
       "      <th>kFIP</th>\n",
       "      <th>WAR</th>\n",
       "    </tr>\n",
       "  </thead>\n",
       "  <tbody>\n",
       "    <tr>\n",
       "      <th>52</th>\n",
       "      <td>53</td>\n",
       "      <td>이태양</td>\n",
       "      <td>한화</td>\n",
       "      <td>1</td>\n",
       "      <td>6</td>\n",
       "      <td>0</td>\n",
       "      <td>10</td>\n",
       "      <td>5</td>\n",
       "      <td>55</td>\n",
       "      <td>1</td>\n",
       "      <td>...</td>\n",
       "      <td>8.64</td>\n",
       "      <td>1.76</td>\n",
       "      <td>1.08</td>\n",
       "      <td>0.342</td>\n",
       "      <td>58.4</td>\n",
       "      <td>5.80</td>\n",
       "      <td>-0.10</td>\n",
       "      <td>3.76</td>\n",
       "      <td>3.52</td>\n",
       "      <td>0.94</td>\n",
       "    </tr>\n",
       "    <tr>\n",
       "      <th>150</th>\n",
       "      <td>151</td>\n",
       "      <td>황영국</td>\n",
       "      <td>한화</td>\n",
       "      <td>0</td>\n",
       "      <td>0</td>\n",
       "      <td>0</td>\n",
       "      <td>0</td>\n",
       "      <td>0</td>\n",
       "      <td>6</td>\n",
       "      <td>0</td>\n",
       "      <td>...</td>\n",
       "      <td>13.50</td>\n",
       "      <td>2.25</td>\n",
       "      <td>4.50</td>\n",
       "      <td>0.545</td>\n",
       "      <td>96.8</td>\n",
       "      <td>6.75</td>\n",
       "      <td>0.02</td>\n",
       "      <td>7.65</td>\n",
       "      <td>6.96</td>\n",
       "      <td>0.02</td>\n",
       "    </tr>\n",
       "    <tr>\n",
       "      <th>246</th>\n",
       "      <td>247</td>\n",
       "      <td>박주홍</td>\n",
       "      <td>한화</td>\n",
       "      <td>0</td>\n",
       "      <td>4</td>\n",
       "      <td>0</td>\n",
       "      <td>1</td>\n",
       "      <td>1</td>\n",
       "      <td>29</td>\n",
       "      <td>6</td>\n",
       "      <td>...</td>\n",
       "      <td>6.34</td>\n",
       "      <td>5.63</td>\n",
       "      <td>1.88</td>\n",
       "      <td>0.344</td>\n",
       "      <td>60.8</td>\n",
       "      <td>7.98</td>\n",
       "      <td>-0.73</td>\n",
       "      <td>6.74</td>\n",
       "      <td>6.87</td>\n",
       "      <td>-0.30</td>\n",
       "    </tr>\n",
       "    <tr>\n",
       "      <th>248</th>\n",
       "      <td>249</td>\n",
       "      <td>박윤철</td>\n",
       "      <td>한화</td>\n",
       "      <td>0</td>\n",
       "      <td>1</td>\n",
       "      <td>0</td>\n",
       "      <td>0</td>\n",
       "      <td>0</td>\n",
       "      <td>15</td>\n",
       "      <td>3</td>\n",
       "      <td>...</td>\n",
       "      <td>6.60</td>\n",
       "      <td>9.00</td>\n",
       "      <td>1.20</td>\n",
       "      <td>0.209</td>\n",
       "      <td>72.9</td>\n",
       "      <td>5.10</td>\n",
       "      <td>0.23</td>\n",
       "      <td>6.97</td>\n",
       "      <td>7.23</td>\n",
       "      <td>-0.33</td>\n",
       "    </tr>\n",
       "    <tr>\n",
       "      <th>191</th>\n",
       "      <td>192</td>\n",
       "      <td>윤호솔</td>\n",
       "      <td>한화</td>\n",
       "      <td>0</td>\n",
       "      <td>0</td>\n",
       "      <td>0</td>\n",
       "      <td>0</td>\n",
       "      <td>0</td>\n",
       "      <td>3</td>\n",
       "      <td>0</td>\n",
       "      <td>...</td>\n",
       "      <td>4.91</td>\n",
       "      <td>7.36</td>\n",
       "      <td>2.45</td>\n",
       "      <td>0.438</td>\n",
       "      <td>41.7</td>\n",
       "      <td>17.18</td>\n",
       "      <td>-0.26</td>\n",
       "      <td>8.31</td>\n",
       "      <td>8.61</td>\n",
       "      <td>-0.05</td>\n",
       "    </tr>\n",
       "  </tbody>\n",
       "</table>\n",
       "<p>5 rows × 21 columns</p>\n",
       "</div>"
      ],
      "text/plain": [
       "       #  선수명  팀명  승  패  세  홀드  블론  경기  선발  ...   삼진/9  볼넷/9  홈런/9  BABIP  \\\n",
       "52    53  이태양  한화  1  6  0  10   5  55   1  ...   8.64  1.76  1.08  0.342   \n",
       "150  151  황영국  한화  0  0  0   0   0   6   0  ...  13.50  2.25  4.50  0.545   \n",
       "246  247  박주홍  한화  0  4  0   1   1  29   6  ...   6.34  5.63  1.88  0.344   \n",
       "248  249  박윤철  한화  0  1  0   0   0  15   3  ...   6.60  9.00  1.20  0.209   \n",
       "191  192  윤호솔  한화  0  0  0   0   0   3   0  ...   4.91  7.36  2.45  0.438   \n",
       "\n",
       "     LOB%    ERA RA9-WAR   FIP  kFIP   WAR  \n",
       "52   58.4   5.80   -0.10  3.76  3.52  0.94  \n",
       "150  96.8   6.75    0.02  7.65  6.96  0.02  \n",
       "246  60.8   7.98   -0.73  6.74  6.87 -0.30  \n",
       "248  72.9   5.10    0.23  6.97  7.23 -0.33  \n",
       "191  41.7  17.18   -0.26  8.31  8.61 -0.05  \n",
       "\n",
       "[5 rows x 21 columns]"
      ]
     },
     "execution_count": 110,
     "metadata": {},
     "output_type": "execute_result"
    }
   ],
   "source": [
    "baseball_2019_pit.sort_values(by='팀명',ascending=False).head()"
   ]
  },
  {
   "cell_type": "code",
   "execution_count": null,
   "metadata": {},
   "outputs": [],
   "source": []
  },
  {
   "cell_type": "code",
   "execution_count": 114,
   "metadata": {},
   "outputs": [],
   "source": [
    "bat_2019= baseball_2019_bat.groupby('팀명')['WAR'].mean().sort_values(ascending=False)"
   ]
  },
  {
   "cell_type": "code",
   "execution_count": 115,
   "metadata": {},
   "outputs": [],
   "source": [
    "pit_2019 = baseball_2019_pit.groupby('팀명')['WAR'].mean().sort_values(ascending=False)"
   ]
  },
  {
   "cell_type": "code",
   "execution_count": 119,
   "metadata": {},
   "outputs": [
    {
     "data": {
      "text/plain": [
       "팀명\n",
       "Hero    1.211304\n",
       "두산      0.975318\n",
       "SK      0.723794\n",
       "NC      0.677225\n",
       "LG      0.559815\n",
       "KT      0.538022\n",
       "삼성      0.514143\n",
       "KIA     0.512250\n",
       "롯데      0.342227\n",
       "한화      0.336674\n",
       "Name: WAR, dtype: float64"
      ]
     },
     "execution_count": 119,
     "metadata": {},
     "output_type": "execute_result"
    }
   ],
   "source": [
    "sum_2019 = (bat_2019 + pit_2019)/2\n",
    "\n",
    "sum_2019.sort_values(ascending=False)"
   ]
  },
  {
   "cell_type": "code",
   "execution_count": 132,
   "metadata": {},
   "outputs": [
    {
     "data": {
      "text/plain": [
       "Index(['#', '선수명', '팀명', '승', '패', '세', '홀드', '블론', '경기', '선발', '이닝', '삼진/9',\n",
       "       '볼넷/9', '홈런/9', 'BABIP', 'LOB%', 'ERA', 'RA9-WAR', 'FIP', 'kFIP',\n",
       "       'WAR'],\n",
       "      dtype='object')"
      ]
     },
     "execution_count": 132,
     "metadata": {},
     "output_type": "execute_result"
    }
   ],
   "source": [
    "baseball_2019_bat.columns"
   ]
  },
  {
   "cell_type": "code",
   "execution_count": 141,
   "metadata": {},
   "outputs": [],
   "source": [
    "baseball_2019_bat[['타율']] = baseball_2019_bat[['타율']].apply(pd.to_numeric, errors='coerce')"
   ]
  },
  {
   "cell_type": "code",
   "execution_count": 142,
   "metadata": {},
   "outputs": [
    {
     "name": "stdout",
     "output_type": "stream",
     "text": [
      "<class 'pandas.core.frame.DataFrame'>\n",
      "RangeIndex: 301 entries, 0 to 300\n",
      "Data columns (total 20 columns):\n",
      "#        301 non-null int64\n",
      "선수명      301 non-null object\n",
      "팀명       301 non-null object\n",
      "타석       301 non-null int64\n",
      "타율       295 non-null float64\n",
      "BABIP    301 non-null object\n",
      "볼넷%      301 non-null object\n",
      "삼진%      301 non-null object\n",
      "볼/삼      282 non-null float64\n",
      "ISO      301 non-null object\n",
      "타수/홈런    301 non-null object\n",
      "OPS      301 non-null object\n",
      "RC       301 non-null object\n",
      "RC/27    301 non-null object\n",
      "wRC      301 non-null object\n",
      "SPD      301 non-null object\n",
      "wSB      301 non-null float64\n",
      "wOBA     301 non-null object\n",
      "wRAA     301 non-null object\n",
      "WAR      295 non-null float64\n",
      "dtypes: float64(4), int64(2), object(14)\n",
      "memory usage: 47.2+ KB\n"
     ]
    }
   ],
   "source": [
    "baseball_2019_bat.info()"
   ]
  },
  {
   "cell_type": "code",
   "execution_count": 149,
   "metadata": {},
   "outputs": [
    {
     "data": {
      "text/plain": [
       "array([[1.        , 0.58690334],\n",
       "       [0.58690334, 1.        ]])"
      ]
     },
     "execution_count": 149,
     "metadata": {},
     "output_type": "execute_result"
    }
   ],
   "source": [
    "import numpy as np\n",
    "\n",
    "np.corrcoef( baseball_2019_bat['볼/삼'],baseball_2019_bat['WAR'] )\n"
   ]
  },
  {
   "cell_type": "code",
   "execution_count": 138,
   "metadata": {
    "collapsed": true,
    "jupyter": {
     "outputs_hidden": true
    }
   },
   "outputs": [
    {
     "data": {
      "text/plain": [
       "<matplotlib.axes._subplots.AxesSubplot at 0x7fc9ca0c7850>"
      ]
     },
     "execution_count": 138,
     "metadata": {},
     "output_type": "execute_result"
    },
    {
     "name": "stderr",
     "output_type": "stream",
     "text": [
      "/opt/conda/lib/python3.7/site-packages/matplotlib/backends/backend_agg.py:211: RuntimeWarning: Glyph 49440 missing from current font.\n",
      "  font.set_text(s, 0.0, flags=flags)\n",
      "/opt/conda/lib/python3.7/site-packages/matplotlib/backends/backend_agg.py:211: RuntimeWarning: Glyph 49688 missing from current font.\n",
      "  font.set_text(s, 0.0, flags=flags)\n",
      "/opt/conda/lib/python3.7/site-packages/matplotlib/backends/backend_agg.py:211: RuntimeWarning: Glyph 47749 missing from current font.\n",
      "  font.set_text(s, 0.0, flags=flags)\n",
      "/opt/conda/lib/python3.7/site-packages/matplotlib/backends/backend_agg.py:211: RuntimeWarning: Glyph 54016 missing from current font.\n",
      "  font.set_text(s, 0.0, flags=flags)\n",
      "/opt/conda/lib/python3.7/site-packages/matplotlib/backends/backend_agg.py:211: RuntimeWarning: Glyph 53440 missing from current font.\n",
      "  font.set_text(s, 0.0, flags=flags)\n",
      "/opt/conda/lib/python3.7/site-packages/matplotlib/backends/backend_agg.py:211: RuntimeWarning: Glyph 49437 missing from current font.\n",
      "  font.set_text(s, 0.0, flags=flags)\n",
      "/opt/conda/lib/python3.7/site-packages/matplotlib/backends/backend_agg.py:211: RuntimeWarning: Glyph 50984 missing from current font.\n",
      "  font.set_text(s, 0.0, flags=flags)\n",
      "/opt/conda/lib/python3.7/site-packages/matplotlib/backends/backend_agg.py:211: RuntimeWarning: Glyph 48380 missing from current font.\n",
      "  font.set_text(s, 0.0, flags=flags)\n",
      "/opt/conda/lib/python3.7/site-packages/matplotlib/backends/backend_agg.py:211: RuntimeWarning: Glyph 45367 missing from current font.\n",
      "  font.set_text(s, 0.0, flags=flags)\n",
      "/opt/conda/lib/python3.7/site-packages/matplotlib/backends/backend_agg.py:211: RuntimeWarning: Glyph 49340 missing from current font.\n",
      "  font.set_text(s, 0.0, flags=flags)\n",
      "/opt/conda/lib/python3.7/site-packages/matplotlib/backends/backend_agg.py:211: RuntimeWarning: Glyph 51652 missing from current font.\n",
      "  font.set_text(s, 0.0, flags=flags)\n",
      "/opt/conda/lib/python3.7/site-packages/matplotlib/backends/backend_agg.py:211: RuntimeWarning: Glyph 54856 missing from current font.\n",
      "  font.set_text(s, 0.0, flags=flags)\n",
      "/opt/conda/lib/python3.7/site-packages/matplotlib/backends/backend_agg.py:211: RuntimeWarning: Glyph 47088 missing from current font.\n",
      "  font.set_text(s, 0.0, flags=flags)\n",
      "/opt/conda/lib/python3.7/site-packages/matplotlib/backends/backend_agg.py:180: RuntimeWarning: Glyph 49440 missing from current font.\n",
      "  font.set_text(s, 0, flags=flags)\n",
      "/opt/conda/lib/python3.7/site-packages/matplotlib/backends/backend_agg.py:180: RuntimeWarning: Glyph 49688 missing from current font.\n",
      "  font.set_text(s, 0, flags=flags)\n",
      "/opt/conda/lib/python3.7/site-packages/matplotlib/backends/backend_agg.py:180: RuntimeWarning: Glyph 47749 missing from current font.\n",
      "  font.set_text(s, 0, flags=flags)\n",
      "/opt/conda/lib/python3.7/site-packages/matplotlib/backends/backend_agg.py:180: RuntimeWarning: Glyph 54016 missing from current font.\n",
      "  font.set_text(s, 0, flags=flags)\n",
      "/opt/conda/lib/python3.7/site-packages/matplotlib/backends/backend_agg.py:180: RuntimeWarning: Glyph 53440 missing from current font.\n",
      "  font.set_text(s, 0, flags=flags)\n",
      "/opt/conda/lib/python3.7/site-packages/matplotlib/backends/backend_agg.py:180: RuntimeWarning: Glyph 49437 missing from current font.\n",
      "  font.set_text(s, 0, flags=flags)\n",
      "/opt/conda/lib/python3.7/site-packages/matplotlib/backends/backend_agg.py:180: RuntimeWarning: Glyph 50984 missing from current font.\n",
      "  font.set_text(s, 0, flags=flags)\n",
      "/opt/conda/lib/python3.7/site-packages/matplotlib/backends/backend_agg.py:180: RuntimeWarning: Glyph 48380 missing from current font.\n",
      "  font.set_text(s, 0, flags=flags)\n",
      "/opt/conda/lib/python3.7/site-packages/matplotlib/backends/backend_agg.py:180: RuntimeWarning: Glyph 45367 missing from current font.\n",
      "  font.set_text(s, 0, flags=flags)\n",
      "/opt/conda/lib/python3.7/site-packages/matplotlib/backends/backend_agg.py:180: RuntimeWarning: Glyph 49340 missing from current font.\n",
      "  font.set_text(s, 0, flags=flags)\n",
      "/opt/conda/lib/python3.7/site-packages/matplotlib/backends/backend_agg.py:180: RuntimeWarning: Glyph 51652 missing from current font.\n",
      "  font.set_text(s, 0, flags=flags)\n",
      "/opt/conda/lib/python3.7/site-packages/matplotlib/backends/backend_agg.py:180: RuntimeWarning: Glyph 54856 missing from current font.\n",
      "  font.set_text(s, 0, flags=flags)\n",
      "/opt/conda/lib/python3.7/site-packages/matplotlib/backends/backend_agg.py:180: RuntimeWarning: Glyph 47088 missing from current font.\n",
      "  font.set_text(s, 0, flags=flags)\n"
     ]
    },
    {
     "data": {
      "image/png": "[encoded data removed]",
      "text/plain": [
       "<Figure size 1800x720 with 2 Axes>"
      ]
     },
     "metadata": {
      "needs_background": "light"
     },
     "output_type": "display_data"
    }
   ],
   "source": [
    "import missingno as msng\n",
    "msng.matrix(baseball_2019_bat)"
   ]
  },
  {
   "cell_type": "code",
   "execution_count": 139,
   "metadata": {},
   "outputs": [
    {
     "data": {
      "text/plain": [
       "#         0\n",
       "선수명       0\n",
       "팀명        0\n",
       "타석        0\n",
       "타율        0\n",
       "BABIP     0\n",
       "볼넷%       0\n",
       "삼진%       0\n",
       "볼/삼      19\n",
       "ISO       0\n",
       "타수/홈런     0\n",
       "OPS       0\n",
       "RC        0\n",
       "RC/27     0\n",
       "wRC       0\n",
       "SPD       0\n",
       "wSB       0\n",
       "wOBA      0\n",
       "wRAA      0\n",
       "WAR       6\n",
       "dtype: int64"
      ]
     },
     "execution_count": 139,
     "metadata": {},
     "output_type": "execute_result"
    }
   ],
   "source": [
    "baseball_2019_bat.isnull().sum()"
   ]
  },
  {
   "cell_type": "code",
   "execution_count": 146,
   "metadata": {},
   "outputs": [],
   "source": [
    "baseball_2019_bat.dropna(inplace=True)"
   ]
  },
  {
   "cell_type": "code",
   "execution_count": 147,
   "metadata": {},
   "outputs": [
    {
     "data": {
      "text/plain": [
       "#        0\n",
       "선수명      0\n",
       "팀명       0\n",
       "타석       0\n",
       "타율       0\n",
       "BABIP    0\n",
       "볼넷%      0\n",
       "삼진%      0\n",
       "볼/삼      0\n",
       "ISO      0\n",
       "타수/홈런    0\n",
       "OPS      0\n",
       "RC       0\n",
       "RC/27    0\n",
       "wRC      0\n",
       "SPD      0\n",
       "wSB      0\n",
       "wOBA     0\n",
       "wRAA     0\n",
       "WAR      0\n",
       "dtype: int64"
      ]
     },
     "execution_count": 147,
     "metadata": {},
     "output_type": "execute_result"
    }
   ],
   "source": [
    "baseball_2019_bat.isnull().sum()"
   ]
  },
  {
   "cell_type": "code",
   "execution_count": 159,
   "metadata": {},
   "outputs": [
    {
     "data": {
      "text/plain": [
       "array([[1.        , 0.58690334],\n",
       "       [0.58690334, 1.        ]])"
      ]
     },
     "execution_count": 159,
     "metadata": {},
     "output_type": "execute_result"
    }
   ],
   "source": [
    "np.corrcoef( baseball_2019_bat['볼/삼'],baseball_2019_bat['WAR'] )"
   ]
  },
  {
   "cell_type": "code",
   "execution_count": 160,
   "metadata": {},
   "outputs": [
    {
     "data": {
      "text/plain": [
       "array([ 2.90847916, -0.53436004])"
      ]
     },
     "execution_count": 160,
     "metadata": {},
     "output_type": "execute_result"
    }
   ],
   "source": [
    "fp1 = np.polyfit( baseball_2019_bat['볼/삼'],baseball_2019_bat['WAR'] , 1 )\n",
    "fp1"
   ]
  },
  {
   "cell_type": "code",
   "execution_count": 187,
   "metadata": {},
   "outputs": [],
   "source": [
    "import matplotlib.pyplot as plt\n",
    "# 주피터 내장\n",
    "%matplotlib inline\n",
    "# 한글처리 \n",
    "import platform\n",
    "from matplotlib import font_manager, rc\n",
    "\n",
    "f1 = np.poly1d( fp1 )\n",
    "x  = np.linspace( 0, 2, 100 ) "
   ]
  },
  {
   "cell_type": "code",
   "execution_count": 188,
   "metadata": {},
   "outputs": [
    {
     "data": {
      "text/plain": [
       "array([ 2.90847916, -0.53436004])"
      ]
     },
     "execution_count": 188,
     "metadata": {},
     "output_type": "execute_result"
    }
   ],
   "source": [
    "fp1 = np.polyfit( baseball_2019_bat['볼/삼'],baseball_2019_bat['WAR'] , 1 )\n",
    "fp1"
   ]
  },
  {
   "cell_type": "code",
   "execution_count": 189,
   "metadata": {},
   "outputs": [
    {
     "name": "stdout",
     "output_type": "stream",
     "text": [
      " \n",
      "2.908 x - 0.5344\n",
      "[0.         0.02020202 0.04040404 0.06060606 0.08080808 0.1010101\n",
      " 0.12121212 0.14141414 0.16161616 0.18181818 0.2020202  0.22222222\n",
      " 0.24242424 0.26262626 0.28282828 0.3030303  0.32323232 0.34343434\n",
      " 0.36363636 0.38383838 0.4040404  0.42424242 0.44444444 0.46464646\n",
      " 0.48484848 0.50505051 0.52525253 0.54545455 0.56565657 0.58585859\n",
      " 0.60606061 0.62626263 0.64646465 0.66666667 0.68686869 0.70707071\n",
      " 0.72727273 0.74747475 0.76767677 0.78787879 0.80808081 0.82828283\n",
      " 0.84848485 0.86868687 0.88888889 0.90909091 0.92929293 0.94949495\n",
      " 0.96969697 0.98989899 1.01010101 1.03030303 1.05050505 1.07070707\n",
      " 1.09090909 1.11111111 1.13131313 1.15151515 1.17171717 1.19191919\n",
      " 1.21212121 1.23232323 1.25252525 1.27272727 1.29292929 1.31313131\n",
      " 1.33333333 1.35353535 1.37373737 1.39393939 1.41414141 1.43434343\n",
      " 1.45454545 1.47474747 1.49494949 1.51515152 1.53535354 1.55555556\n",
      " 1.57575758 1.5959596  1.61616162 1.63636364 1.65656566 1.67676768\n",
      " 1.6969697  1.71717172 1.73737374 1.75757576 1.77777778 1.7979798\n",
      " 1.81818182 1.83838384 1.85858586 1.87878788 1.8989899  1.91919192\n",
      " 1.93939394 1.95959596 1.97979798 2.        ]\n"
     ]
    },
    {
     "data": {
      "text/plain": [
       "(None, None)"
      ]
     },
     "execution_count": 189,
     "metadata": {},
     "output_type": "execute_result"
    }
   ],
   "source": [
    "print(f1), print(x)"
   ]
  },
  {
   "cell_type": "code",
   "execution_count": 190,
   "metadata": {},
   "outputs": [
    {
     "data": {
      "image/png": "[encoded data removed]",
      "text/plain": [
       "<Figure size 432x288 with 1 Axes>"
      ]
     },
     "metadata": {
      "needs_background": "light"
     },
     "output_type": "display_data"
    }
   ],
   "source": [
    "# 시각화\n",
    "plt.scatter( baseball_2019_bat['볼/삼'],baseball_2019_bat['WAR'], s=30 )\n",
    "plt.plot( x, f1(x), ls='dashed', lw=3, color='g' )\n",
    "plt.xlabel('볼/삼')\n",
    "plt.ylabel('WAR')\n",
    "plt.grid()\n",
    "plt.show()"
   ]
  },
  {
   "cell_type": "code",
   "execution_count": null,
   "metadata": {},
   "outputs": [],
   "source": []
  },
  {
   "cell_type": "code",
   "execution_count": null,
   "metadata": {},
   "outputs": [],
   "source": []
  },
  {
   "cell_type": "code",
   "execution_count": null,
   "metadata": {},
   "outputs": [],
   "source": []
  },
  {
   "cell_type": "code",
   "execution_count": null,
   "metadata": {},
   "outputs": [],
   "source": []
  },
  {
   "cell_type": "code",
   "execution_count": null,
   "metadata": {},
   "outputs": [],
   "source": []
  },
  {
   "cell_type": "code",
   "execution_count": null,
   "metadata": {},
   "outputs": [],
   "source": []
  },
  {
   "cell_type": "code",
   "execution_count": null,
   "metadata": {},
   "outputs": [],
   "source": []
  },
  {
   "cell_type": "code",
   "execution_count": null,
   "metadata": {},
   "outputs": [],
   "source": []
  },
  {
   "cell_type": "code",
   "execution_count": null,
   "metadata": {},
   "outputs": [],
   "source": []
  }
 ],
 "metadata": {
  "kernelspec": {
   "display_name": "Python 3",
   "language": "python",
   "name": "python3"
  },
  "language_info": {
   "codemirror_mode": {
    "name": "ipython",
    "version": 3
   },
   "file_extension": ".py",
   "mimetype": "text/x-python",
   "name": "python",
   "nbconvert_exporter": "python",
   "pygments_lexer": "ipython3",
   "version": "3.7.4"
  }
 },
 "nbformat": 4,
 "nbformat_minor": 4
}
